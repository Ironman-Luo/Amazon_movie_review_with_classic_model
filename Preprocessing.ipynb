{
 "cells": [
  {
   "cell_type": "code",
   "execution_count": 1,
   "metadata": {},
   "outputs": [],
   "source": [
    "import pandas as pd\n",
    "import numpy as np\n",
    "import matplotlib.pyplot as plt\n",
    "import seaborn as sns\n",
    "from sklearn.feature_extraction.text import CountVectorizer\n",
    "from sklearn.feature_extraction.text import TfidfVectorizer\n",
    "from sklearn.linear_model import LogisticRegression\n",
    "from sklearn.model_selection import train_test_split\n",
    "from sklearn.dummy import DummyClassifier\n",
    "from string import punctuation\n",
    "from sklearn import svm\n",
    "from nltk.corpus import stopwords\n",
    "from nltk.stem import WordNetLemmatizer\n",
    "import nltk\n",
    "from nltk import ngrams\n",
    "from itertools import chain\n",
    "from wordcloud import WordCloud\n",
    "import sense2vec\n",
    "from sense2vec import Sense2VecComponent\n",
    "import spacy\n",
    "from spacy import displacy\n",
    "from spacy.util import minibatch, compounding\n",
    "from sense2vec import Sense2Vec\n",
    "import re\n",
    "import pickle"
   ]
  },
  {
   "cell_type": "code",
   "execution_count": 2,
   "metadata": {},
   "outputs": [],
   "source": [
    "trainingSet = pd.read_csv('train.csv')\n",
    "test_index = pd.read_csv(\"test.csv\")['Id'].tolist()\n",
    "trainingSet = trainingSet.dropna()\n",
    "trainingSet = trainingSet.set_index('Id')"
   ]
  },
  {
   "cell_type": "code",
   "execution_count": 3,
   "metadata": {},
   "outputs": [
    {
     "name": "stdout",
     "output_type": "stream",
     "text": [
      "Id\n",
      "0                                  good version of a classic\n",
      "1                                     Good but not as moving\n",
      "2                      Winkler's Performance was ok at best!\n",
      "3               It's an enjoyable twist on the classic story\n",
      "4                                           Best Scrooge yet\n",
      "                                 ...                        \n",
      "1697526     Worth the wait, but worth the asking price, too?\n",
      "1697529    HOLY BAT-BOXSET, BATMAN... I never thought thi...\n",
      "1697530    prayers have been answered because batman 60s ...\n",
      "1697531                                          can't Wait!\n",
      "1697532    The Price is Insane? People Really Need to Wak...\n",
      "Name: Summary, Length: 1397461, dtype: object\n"
     ]
    }
   ],
   "source": [
    "print(trainingSet['Summary'])"
   ]
  },
  {
   "cell_type": "code",
   "execution_count": 3,
   "metadata": {},
   "outputs": [],
   "source": [
    "fulltrainingSet = pd.read_csv('train.csv')\n",
    "x = fulltrainingSet['Summary'][fulltrainingSet.Summary != fulltrainingSet.Summary]\n",
    "y = fulltrainingSet['Text'][fulltrainingSet.Text != fulltrainingSet.Text]"
   ]
  },
  {
   "cell_type": "code",
   "execution_count": 4,
   "metadata": {},
   "outputs": [],
   "source": [
    "x = np.array(x.index).tolist()\n",
    "y = np.array(y.index).tolist()"
   ]
  },
  {
   "cell_type": "code",
   "execution_count": 5,
   "metadata": {},
   "outputs": [
    {
     "name": "stdout",
     "output_type": "stream",
     "text": [
      "[11603, 84167, 100155, 118232, 128725, 158752, 236956, 266209, 526382, 577522, 640539, 819994, 965397, 1009122, 1269960, 1305629, 1367464, 1391265, 1393501, 1463237, 1496024, 1538579, 1538842, 1588511, 1646534]\n"
     ]
    }
   ],
   "source": [
    "print(x)\n",
    "s = fulltrainingSet['Text'].iloc[x]"
   ]
  },
  {
   "cell_type": "code",
   "execution_count": 6,
   "metadata": {},
   "outputs": [
    {
     "name": "stderr",
     "output_type": "stream",
     "text": [
      "Building prefix dict from the default dictionary ...\n",
      "Loading model from cache /var/folders/98/nz1_948x12d7bjtk2jwm41cr0000gn/T/jieba.cache\n",
      "Loading model cost 0.617 seconds.\n",
      "Prefix dict has been built successfully.\n"
     ]
    }
   ],
   "source": [
    "from jieba import analyse\n",
    "tfidf = analyse.extract_tags\n",
    "sum1 = []\n",
    "for i in s:\n",
    "    sum1.append(\" \".join(tfidf(i)))"
   ]
  },
  {
   "cell_type": "code",
   "execution_count": 7,
   "metadata": {},
   "outputs": [
    {
     "name": "stderr",
     "output_type": "stream",
     "text": [
      "/Users/lw/anaconda3/lib/python3.7/site-packages/pandas/core/indexing.py:670: SettingWithCopyWarning: \n",
      "A value is trying to be set on a copy of a slice from a DataFrame\n",
      "\n",
      "See the caveats in the documentation: https://pandas.pydata.org/pandas-docs/stable/user_guide/indexing.html#returning-a-view-versus-a-copy\n",
      "  self._setitem_with_indexer(indexer, value)\n"
     ]
    },
    {
     "name": "stdout",
     "output_type": "stream",
     "text": [
      "11603      year am Excellent course able watch several ti...\n",
      "84167      was like film me were story effects feel while...\n",
      "100155     did like deleted before finished What more say...\n",
      "118232     had previously read book believe enjoyed movie...\n",
      "128725     Gift Purchased friend No idea She says marvelo...\n",
      "158752     people was time about movies so re just ... be...\n",
      "236956      MOVIE WATCHED YEARS AGO LOVED WELL NOW BEST KIND\n",
      "266209     same because release versions films Lucas he G...\n",
      "526382     movie had seen television lot times wanted get...\n",
      "577522     was Their too much foolishness enough serious ...\n",
      "640539     was good DVD had no problems liked after film ...\n",
      "819994     show when CSI acting total did TV lacks many t...\n",
      "965397     was film Harry off but there PG 13 see scenes ...\n",
      "1009122    would me she out crying Oh film somebody befor...\n",
      "1269960    didn put my cart don know how got there Just r...\n",
      "1305629    Just wanted vote star bring rating down movie ...\n",
      "1367464    anime bamboo but great teacher teachies only g...\n",
      "1391265    first seen Again gift my granddaughters care f...\n",
      "1393501    love owls am animal rights person when saw mov...\n",
      "1463237    love highschool bestest best horror thriller a...\n",
      "1496024    but put stars though was what adspacktied just...\n",
      "1538579    really love story its amazing but short was ho...\n",
      "1538842    also really loved cause reminded me other anim...\n",
      "1588511    Awesome movie beginning end Kept me edge my se...\n",
      "1646534    was when Did like series reachies 16 17 though...\n",
      "Name: Summary, dtype: object\n"
     ]
    }
   ],
   "source": [
    "count = 0\n",
    "for i in x:\n",
    "    fulltrainingSet['Summary'].iloc[i] = sum1[count]\n",
    "    count += 1\n",
    "print(fulltrainingSet['Summary'].iloc[x])\n",
    "\n"
   ]
  },
  {
   "cell_type": "code",
   "execution_count": 8,
   "metadata": {},
   "outputs": [],
   "source": [
    "hn = fulltrainingSet['HelpfulnessNumerator']\n",
    "hd = fulltrainingSet['HelpfulnessDenominator']"
   ]
  },
  {
   "cell_type": "code",
   "execution_count": 9,
   "metadata": {},
   "outputs": [],
   "source": [
    "z = hn/hd\n",
    "z[z != z] = 0\n",
    "fulltrainingSet['Helpfulness'] = z"
   ]
  },
  {
   "cell_type": "code",
   "execution_count": 10,
   "metadata": {},
   "outputs": [
    {
     "name": "stdout",
     "output_type": "stream",
     "text": [
      "5209       I Think My Hard Drive Was Too Big To Take This...\n",
      "13114                          A Kid's review What the Heck!\n",
      "23314      This review section is sooo confusing it isn't...\n",
      "32582                  At Last! Shawshank Arrives on Blu-Ray\n",
      "82557                               Overpriced but it's good\n",
      "                                 ...                        \n",
      "1589648                               A Must-Have Collection\n",
      "1596058                    A fun movie with good car scenes.\n",
      "1614571    Digging Deeper into Disney: The Hunchback of N...\n",
      "1641615                Digitally Remastered? In a Pig's Eye!\n",
      "1696677    Review of the Bluray - Five star series loses ...\n",
      "Name: Text, Length: 62, dtype: object\n"
     ]
    }
   ],
   "source": [
    "for i in y:\n",
    "    fulltrainingSet['Text'].iloc[i] = fulltrainingSet['Summary'].iloc[i]\n",
    "print(fulltrainingSet['Text'].iloc[y])"
   ]
  },
  {
   "cell_type": "code",
   "execution_count": 11,
   "metadata": {},
   "outputs": [],
   "source": [
    "fulltrainingSet = fulltrainingSet[['Id','ProductId','UserId','Score','Time','Summary','Text','Helpfulness']]"
   ]
  },
  {
   "cell_type": "code",
   "execution_count": 12,
   "metadata": {},
   "outputs": [],
   "source": [
    "fulltrainingSet.to_pickle('modifiedtrainingSet.pickle')"
   ]
  }
 ],
 "metadata": {
  "kernelspec": {
   "display_name": "Python 3",
   "language": "python",
   "name": "python3"
  },
  "language_info": {
   "codemirror_mode": {
    "name": "ipython",
    "version": 3
   },
   "file_extension": ".py",
   "mimetype": "text/x-python",
   "name": "python",
   "nbconvert_exporter": "python",
   "pygments_lexer": "ipython3",
   "version": "3.7.6"
  }
 },
 "nbformat": 4,
 "nbformat_minor": 4
}
