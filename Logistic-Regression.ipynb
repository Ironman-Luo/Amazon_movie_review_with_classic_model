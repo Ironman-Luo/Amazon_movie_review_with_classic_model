{
 "cells": [
  {
   "cell_type": "code",
   "execution_count": 26,
   "metadata": {},
   "outputs": [],
   "source": [
    "import pandas as pd\n",
    "import numpy as np\n",
    "import matplotlib.pyplot as plt\n",
    "import seaborn as sns\n",
    "from sklearn.feature_extraction.text import CountVectorizer\n",
    "from sklearn.feature_extraction.text import TfidfVectorizer\n",
    "from sklearn.linear_model import LogisticRegression\n",
    "from sklearn.linear_model import LinearRegression\n",
    "from sklearn.model_selection import train_test_split\n",
    "from sklearn.dummy import DummyClassifier\n",
    "from string import punctuation\n",
    "from sklearn import svm\n",
    "from nltk.corpus import stopwords\n",
    "from nltk.stem import WordNetLemmatizer\n",
    "import nltk\n",
    "from nltk import ngrams\n",
    "from itertools import chain\n",
    "from wordcloud import WordCloud\n",
    "import re\n",
    "import pickle\n",
    "from sklearn.metrics import confusion_matrix\n",
    "from scipy.optimize import least_squares"
   ]
  },
  {
   "cell_type": "code",
   "execution_count": 2,
   "metadata": {},
   "outputs": [],
   "source": [
    "fulltrainingSet = pd.read_pickle('modifiedtrainingSet.pickle')\n",
    "test_index = pd.read_csv(\"test.csv\")['Id'].tolist()"
   ]
  },
  {
   "cell_type": "code",
   "execution_count": 3,
   "metadata": {},
   "outputs": [
    {
     "name": "stdout",
     "output_type": "stream",
     "text": [
      "0          good version of a classicThis is a charming ve...\n",
      "1          Good but not as movingIt was good but not as e...\n",
      "2          Winkler's Performance was ok at best!Don't get...\n",
      "3          It's an enjoyable twist on the classic storyHe...\n",
      "4          Best Scrooge yetThis is one of the best Scroog...\n",
      "                                 ...                        \n",
      "1697528    Way to Expensive!! WB = GREEDwow $269.99 for t...\n",
      "1697529    HOLY BAT-BOXSET, BATMAN... I never thought thi...\n",
      "1697530    prayers have been answered because batman 60s ...\n",
      "1697531    can't Wait!I've been a fan of the series since...\n",
      "1697532    The Price is Insane? People Really Need to Wak...\n",
      "Name: reviews, Length: 1697533, dtype: object\n"
     ]
    }
   ],
   "source": [
    "fulltrainingSet['reviews'] = fulltrainingSet['Summary'] + fulltrainingSet['Text']\n",
    "print(fulltrainingSet['reviews'])"
   ]
  },
  {
   "cell_type": "code",
   "execution_count": 4,
   "metadata": {},
   "outputs": [],
   "source": [
    "trainingSet = fulltrainingSet.dropna()\n",
    "train_index = trainingSet.index.tolist()"
   ]
  },
  {
   "cell_type": "code",
   "execution_count": 5,
   "metadata": {},
   "outputs": [],
   "source": [
    "Y = np.array(trainingSet['Score'])\n",
    "X = trainingSet[['ProductId','UserId','reviews']]\n",
    "sub_x = trainingSet['reviews']"
   ]
  },
  {
   "cell_type": "code",
   "execution_count": 6,
   "metadata": {},
   "outputs": [],
   "source": [
    "full_sub_x = fulltrainingSet['reviews']"
   ]
  },
  {
   "cell_type": "code",
   "execution_count": 7,
   "metadata": {},
   "outputs": [],
   "source": [
    "c = CountVectorizer(stop_words = 'english')\n"
   ]
  },
  {
   "cell_type": "code",
   "execution_count": 8,
   "metadata": {},
   "outputs": [],
   "source": [
    "c = CountVectorizer(stop_words = 'english', min_df = 5000, max_df = 1000000)\n",
    "X = c.fit_transform(full_sub_x)"
   ]
  },
  {
   "cell_type": "code",
   "execution_count": 9,
   "metadata": {},
   "outputs": [
    {
     "name": "stdout",
     "output_type": "stream",
     "text": [
      "(1697533, 3451)\n"
     ]
    }
   ],
   "source": [
    "print(X.shape)"
   ]
  },
  {
   "cell_type": "code",
   "execution_count": 10,
   "metadata": {},
   "outputs": [],
   "source": [
    "train_x = X[train_index]\n",
    "train_y = fulltrainingSet['Score'].iloc[train_index].to_numpy()\n",
    "X_train, X_test, y_train, y_test = train_test_split(train_x, train_y, test_size=0.3, random_state=42)"
   ]
  },
  {
   "cell_type": "code",
   "execution_count": 11,
   "metadata": {},
   "outputs": [
    {
     "name": "stderr",
     "output_type": "stream",
     "text": [
      "/Users/lw/anaconda3/lib/python3.7/site-packages/sklearn/linear_model/_sag.py:330: ConvergenceWarning: The max_iter was reached which means the coef_ did not converge\n",
      "  \"the coef_ did not converge\", ConvergenceWarning)\n"
     ]
    }
   ],
   "source": [
    "clf = LogisticRegression(solver = \"saga\", max_iter = 200)\n",
    "clf_model = clf.fit(X_train,y_train)"
   ]
  },
  {
   "cell_type": "code",
   "execution_count": 12,
   "metadata": {},
   "outputs": [
    {
     "name": "stdout",
     "output_type": "stream",
     "text": [
      "(300000,)\n"
     ]
    }
   ],
   "source": [
    "prediction = clf.predict(X[test_index])\n",
    "print(prediction.shape)"
   ]
  },
  {
   "cell_type": "code",
   "execution_count": 25,
   "metadata": {},
   "outputs": [
    {
     "name": "stdout",
     "output_type": "stream",
     "text": [
      "[5. 4. 4. ... 4. 5. 4.]\n"
     ]
    }
   ],
   "source": [
    "prob_predict = np.around(np.matmul(clf.predict_proba(X[test_index]),np.array([1,2,3,4,5])),0)\n",
    "print(prob_predict)"
   ]
  },
  {
   "cell_type": "code",
   "execution_count": 14,
   "metadata": {},
   "outputs": [],
   "source": [
    "col_result = np.matmul(clf.predict_proba(X),np.array([1,2,3,4,5]))"
   ]
  },
  {
   "cell_type": "code",
   "execution_count": 28,
   "metadata": {},
   "outputs": [
    {
     "name": "stdout",
     "output_type": "stream",
     "text": [
      "[4.40565317 4.24312802 4.07796109 ... 4.83302686 4.21819137 3.82620512]\n"
     ]
    }
   ],
   "source": [
    "print(col_result)"
   ]
  },
  {
   "cell_type": "code",
   "execution_count": 22,
   "metadata": {},
   "outputs": [],
   "source": [
    "fulltrainingSet['result'] = col_result"
   ]
  },
  {
   "cell_type": "code",
   "execution_count": 24,
   "metadata": {},
   "outputs": [],
   "source": [
    "fulltrainingSet.to_pickle(\"result.pickle\")"
   ]
  }
 ],
 "metadata": {
  "kernelspec": {
   "display_name": "Python 3",
   "language": "python",
   "name": "python3"
  },
  "language_info": {
   "codemirror_mode": {
    "name": "ipython",
    "version": 3
   },
   "file_extension": ".py",
   "mimetype": "text/x-python",
   "name": "python",
   "nbconvert_exporter": "python",
   "pygments_lexer": "ipython3",
   "version": "3.7.6"
  }
 },
 "nbformat": 4,
 "nbformat_minor": 4
}
